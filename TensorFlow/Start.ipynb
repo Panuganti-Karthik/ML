{
 "cells": [
  {
   "cell_type": "code",
   "execution_count": 2,
   "metadata": {},
   "outputs": [
    {
     "name": "stdout",
     "output_type": "stream",
     "text": [
      "Package                  Version\n",
      "------------------------ ----------------\n",
      "apturl                   0.5.2\n",
      "asttokens                2.4.1\n",
      "bcrypt                   3.2.0\n",
      "blinker                  1.4\n",
      "Brlapi                   0.8.3\n",
      "certifi                  2020.6.20\n",
      "chardet                  4.0.0\n",
      "click                    8.0.3\n",
      "colorama                 0.4.4\n",
      "comm                     0.2.2\n",
      "contourpy                1.3.1\n",
      "cryptography             3.4.8\n",
      "cupshelpers              1.0\n",
      "cycler                   0.12.1\n",
      "dbus-python              1.2.18\n",
      "debugpy                  1.8.8\n",
      "decorator                5.1.1\n",
      "defer                    1.0.6\n",
      "distlib                  0.3.9\n",
      "distro                   1.7.0\n",
      "distro-info              1.1+ubuntu0.2\n",
      "dnspython                2.1.0\n",
      "duplicity                0.8.21\n",
      "exceptiongroup           1.2.2\n",
      "executing                2.1.0\n",
      "fasteners                0.14.1\n",
      "filelock                 3.16.1\n",
      "fonttools                4.55.0\n",
      "fsspec                   2024.10.0\n",
      "future                   0.18.2\n",
      "httplib2                 0.20.2\n",
      "idna                     3.3\n",
      "importlib-metadata       4.6.4\n",
      "ipykernel                6.29.5\n",
      "ipython                  8.29.0\n",
      "jedi                     0.19.2\n",
      "jeepney                  0.7.1\n",
      "Jinja2                   3.1.4\n",
      "jupyter_client           8.6.3\n",
      "jupyter_core             5.7.2\n",
      "keyring                  23.5.0\n",
      "kiwisolver               1.4.7\n",
      "language-selector        0.1\n",
      "launchpadlib             1.10.16\n",
      "lazr.restfulclient       0.14.4\n",
      "lazr.uri                 1.0.6\n",
      "lockfile                 0.12.2\n",
      "louis                    3.20.0\n",
      "macaroonbakery           1.3.1\n",
      "MarkupSafe               3.0.2\n",
      "matplotlib               3.9.2\n",
      "matplotlib-inline        0.1.7\n",
      "monotonic                1.6\n",
      "more-itertools           8.10.0\n",
      "mpmath                   1.3.0\n",
      "nest-asyncio             1.6.0\n",
      "networkx                 3.4.2\n",
      "numpy                    2.1.3\n",
      "nvidia-cublas-cu12       12.4.5.8\n",
      "nvidia-cuda-cupti-cu12   12.4.127\n",
      "nvidia-cuda-nvrtc-cu12   12.4.127\n",
      "nvidia-cuda-runtime-cu12 12.4.127\n",
      "nvidia-cudnn-cu12        9.1.0.70\n",
      "nvidia-cufft-cu12        11.2.1.3\n",
      "nvidia-curand-cu12       10.3.5.147\n",
      "nvidia-cusolver-cu12     11.6.1.9\n",
      "nvidia-cusparse-cu12     12.3.1.170\n",
      "nvidia-nccl-cu12         2.21.5\n",
      "nvidia-nvjitlink-cu12    12.4.127\n",
      "nvidia-nvtx-cu12         12.4.127\n",
      "oauthlib                 3.2.0\n",
      "olefile                  0.46\n",
      "opencv-python            4.10.0.84\n",
      "packaging                24.2\n",
      "paramiko                 2.9.3\n",
      "parso                    0.8.4\n",
      "pexpect                  4.8.0\n",
      "Pillow                   9.0.1\n",
      "pip                      22.0.2\n",
      "platformdirs             4.3.6\n",
      "prompt_toolkit           3.0.48\n",
      "protobuf                 3.12.4\n",
      "psutil                   6.1.0\n",
      "ptyprocess               0.7.0\n",
      "pure_eval                0.2.3\n",
      "pycairo                  1.20.1\n",
      "pycups                   2.0.1\n",
      "Pygments                 2.18.0\n",
      "PyGObject                3.42.1\n",
      "PyJWT                    2.3.0\n",
      "pymacaroons              0.13.0\n",
      "PyNaCl                   1.5.0\n",
      "pyparsing                2.4.7\n",
      "pyRFC3339                1.1\n",
      "python-apt               2.4.0+ubuntu4\n",
      "python-dateutil          2.9.0.post0\n",
      "python-debian            0.1.43+ubuntu1.1\n",
      "pytz                     2022.1\n",
      "pyxdg                    0.27\n",
      "PyYAML                   5.4.1\n",
      "pyzmq                    26.2.0\n",
      "reportlab                3.6.8\n",
      "requests                 2.25.1\n",
      "SecretStorage            3.3.1\n",
      "setuptools               59.6.0\n",
      "six                      1.16.0\n",
      "stack-data               0.6.3\n",
      "sympy                    1.13.1\n",
      "systemd-python           234\n",
      "torch                    2.5.1\n",
      "tornado                  6.4.1\n",
      "traitlets                5.14.3\n",
      "triton                   3.1.0\n",
      "typing_extensions        4.12.2\n",
      "ubuntu-drivers-common    0.0.0\n",
      "ubuntu-pro-client        8001\n",
      "unattended-upgrades      0.1\n",
      "urllib3                  1.26.5\n",
      "usb-creator              0.3.7\n",
      "virtualenv               20.27.1\n",
      "wadllib                  1.3.6\n",
      "wcwidth                  0.2.13\n",
      "wheel                    0.37.1\n",
      "xdg                      5\n",
      "xkit                     0.0.0\n",
      "zipp                     1.0.0\n"
     ]
    }
   ],
   "source": [
    "!pip list"
   ]
  },
  {
   "cell_type": "markdown",
   "metadata": {},
   "source": [
    "### Tensorflow Installation "
   ]
  },
  {
   "cell_type": "code",
   "execution_count": 4,
   "metadata": {},
   "outputs": [
    {
     "name": "stdout",
     "output_type": "stream",
     "text": [
      "Defaulting to user installation because normal site-packages is not writeable\n",
      "Collecting tensorflow\n",
      "  Using cached tensorflow-2.18.0-cp310-cp310-manylinux_2_17_x86_64.manylinux2014_x86_64.whl (615.3 MB)\n",
      "Collecting protobuf!=4.21.0,!=4.21.1,!=4.21.2,!=4.21.3,!=4.21.4,!=4.21.5,<6.0.0dev,>=3.20.3\n",
      "  Downloading protobuf-5.29.0-cp38-abi3-manylinux2014_x86_64.whl (319 kB)\n",
      "\u001b[2K     \u001b[90m━━━━━━━━━━━━━━━━━━━━━━━━━━━━━━━━━━━━━\u001b[0m \u001b[32m319.7/319.7 KB\u001b[0m \u001b[31m226.7 kB/s\u001b[0m eta \u001b[36m0:00:00\u001b[0ma \u001b[36m0:00:01\u001b[0m\n",
      "\u001b[?25hCollecting wrapt>=1.11.0\n",
      "  Downloading wrapt-1.17.0-cp310-cp310-manylinux_2_5_x86_64.manylinux1_x86_64.manylinux_2_17_x86_64.manylinux2014_x86_64.whl (82 kB)\n",
      "\u001b[2K     \u001b[90m━━━━━━━━━━━━━━━━━━━━━━━━━━━━━━━━━━━━━━━\u001b[0m \u001b[32m82.7/82.7 KB\u001b[0m \u001b[31m314.6 kB/s\u001b[0m eta \u001b[36m0:00:00\u001b[0ma \u001b[36m0:00:01\u001b[0m\n",
      "\u001b[?25hCollecting termcolor>=1.1.0\n",
      "  Using cached termcolor-2.5.0-py3-none-any.whl (7.8 kB)\n",
      "Requirement already satisfied: packaging in /home/ubuntu/.local/lib/python3.10/site-packages (from tensorflow) (24.2)\n",
      "Collecting opt-einsum>=2.3.2\n",
      "  Using cached opt_einsum-3.4.0-py3-none-any.whl (71 kB)\n",
      "Requirement already satisfied: six>=1.12.0 in /usr/lib/python3/dist-packages (from tensorflow) (1.16.0)\n",
      "Collecting google-pasta>=0.1.1\n",
      "  Using cached google_pasta-0.2.0-py3-none-any.whl (57 kB)\n",
      "Collecting grpcio<2.0,>=1.24.3\n",
      "  Using cached grpcio-1.68.0-cp310-cp310-manylinux_2_17_x86_64.manylinux2014_x86_64.whl (5.9 MB)\n",
      "Requirement already satisfied: setuptools in /usr/lib/python3/dist-packages (from tensorflow) (59.6.0)\n",
      "Collecting keras>=3.5.0\n",
      "  Downloading keras-3.7.0-py3-none-any.whl (1.2 MB)\n",
      "\u001b[2K     \u001b[90m━━━━━━━━━━━━━━━━━━━━━━━━━━━━━━━━━━━━━━━━\u001b[0m \u001b[32m1.2/1.2 MB\u001b[0m \u001b[31m2.2 MB/s\u001b[0m eta \u001b[36m0:00:00\u001b[0ma \u001b[36m0:00:01\u001b[0m\n",
      "\u001b[?25hCollecting tensorflow-io-gcs-filesystem>=0.23.1\n",
      "  Using cached tensorflow_io_gcs_filesystem-0.37.1-cp310-cp310-manylinux_2_17_x86_64.manylinux2014_x86_64.whl (5.1 MB)\n",
      "Collecting absl-py>=1.0.0\n",
      "  Using cached absl_py-2.1.0-py3-none-any.whl (133 kB)\n",
      "Collecting numpy<2.1.0,>=1.26.0\n",
      "  Using cached numpy-2.0.2-cp310-cp310-manylinux_2_17_x86_64.manylinux2014_x86_64.whl (19.5 MB)\n",
      "Collecting gast!=0.5.0,!=0.5.1,!=0.5.2,>=0.2.1\n",
      "  Using cached gast-0.6.0-py3-none-any.whl (21 kB)\n",
      "Collecting libclang>=13.0.0\n",
      "  Using cached libclang-18.1.1-py2.py3-none-manylinux2010_x86_64.whl (24.5 MB)\n",
      "Collecting ml-dtypes<0.5.0,>=0.4.0\n",
      "  Using cached ml_dtypes-0.4.1-cp310-cp310-manylinux_2_17_x86_64.manylinux2014_x86_64.whl (2.2 MB)\n",
      "Collecting h5py>=3.11.0\n",
      "  Using cached h5py-3.12.1-cp310-cp310-manylinux_2_17_x86_64.manylinux2014_x86_64.whl (5.3 MB)\n",
      "Collecting astunparse>=1.6.0\n",
      "  Using cached astunparse-1.6.3-py2.py3-none-any.whl (12 kB)\n",
      "Collecting tensorboard<2.19,>=2.18\n",
      "  Using cached tensorboard-2.18.0-py3-none-any.whl (5.5 MB)\n",
      "Collecting flatbuffers>=24.3.25\n",
      "  Using cached flatbuffers-24.3.25-py2.py3-none-any.whl (26 kB)\n",
      "Requirement already satisfied: typing-extensions>=3.6.6 in /home/ubuntu/.local/lib/python3.10/site-packages (from tensorflow) (4.12.2)\n",
      "Requirement already satisfied: requests<3,>=2.21.0 in /usr/lib/python3/dist-packages (from tensorflow) (2.25.1)\n",
      "Requirement already satisfied: wheel<1.0,>=0.23.0 in /usr/lib/python3/dist-packages (from astunparse>=1.6.0->tensorflow) (0.37.1)\n",
      "Collecting optree\n",
      "  Using cached optree-0.13.1-cp310-cp310-manylinux_2_17_x86_64.manylinux2014_x86_64.whl (381 kB)\n",
      "Collecting namex\n",
      "  Using cached namex-0.0.8-py3-none-any.whl (5.8 kB)\n",
      "Collecting rich\n",
      "  Using cached rich-13.9.4-py3-none-any.whl (242 kB)\n",
      "Collecting tensorboard-data-server<0.8.0,>=0.7.0\n",
      "  Using cached tensorboard_data_server-0.7.2-py3-none-manylinux_2_31_x86_64.whl (6.6 MB)\n",
      "Collecting werkzeug>=1.0.1\n",
      "  Using cached werkzeug-3.1.3-py3-none-any.whl (224 kB)\n",
      "Collecting markdown>=2.6.8\n",
      "  Using cached Markdown-3.7-py3-none-any.whl (106 kB)\n",
      "Requirement already satisfied: MarkupSafe>=2.1.1 in /home/ubuntu/.local/lib/python3.10/site-packages (from werkzeug>=1.0.1->tensorboard<2.19,>=2.18->tensorflow) (3.0.2)\n",
      "Collecting markdown-it-py>=2.2.0\n",
      "  Using cached markdown_it_py-3.0.0-py3-none-any.whl (87 kB)\n",
      "Requirement already satisfied: pygments<3.0.0,>=2.13.0 in /home/ubuntu/.local/lib/python3.10/site-packages (from rich->keras>=3.5.0->tensorflow) (2.18.0)\n",
      "Collecting mdurl~=0.1\n",
      "  Using cached mdurl-0.1.2-py3-none-any.whl (10.0 kB)\n",
      "Installing collected packages: namex, libclang, flatbuffers, wrapt, werkzeug, termcolor, tensorflow-io-gcs-filesystem, tensorboard-data-server, protobuf, optree, opt-einsum, numpy, mdurl, markdown, grpcio, google-pasta, gast, astunparse, absl-py, tensorboard, ml-dtypes, markdown-it-py, h5py, rich, keras, tensorflow\n",
      "  Attempting uninstall: numpy\n",
      "    Found existing installation: numpy 2.1.3\n",
      "    Uninstalling numpy-2.1.3:\n",
      "      Successfully uninstalled numpy-2.1.3\n",
      "Successfully installed absl-py-2.1.0 astunparse-1.6.3 flatbuffers-24.3.25 gast-0.6.0 google-pasta-0.2.0 grpcio-1.68.0 h5py-3.12.1 keras-3.7.0 libclang-18.1.1 markdown-3.7 markdown-it-py-3.0.0 mdurl-0.1.2 ml-dtypes-0.4.1 namex-0.0.8 numpy-2.0.2 opt-einsum-3.4.0 optree-0.13.1 protobuf-5.29.0 rich-13.9.4 tensorboard-2.18.0 tensorboard-data-server-0.7.2 tensorflow-2.18.0 tensorflow-io-gcs-filesystem-0.37.1 termcolor-2.5.0 werkzeug-3.1.3 wrapt-1.17.0\n"
     ]
    }
   ],
   "source": [
    "!pip install tensorflow"
   ]
  },
  {
   "cell_type": "code",
   "execution_count": 1,
   "metadata": {},
   "outputs": [
    {
     "name": "stdout",
     "output_type": "stream",
     "text": [
      "Package                      Version\n",
      "---------------------------- ----------------\n",
      "absl-py                      2.1.0\n",
      "apturl                       0.5.2\n",
      "asttokens                    2.4.1\n",
      "astunparse                   1.6.3\n",
      "bcrypt                       3.2.0\n",
      "blinker                      1.4\n",
      "Brlapi                       0.8.3\n",
      "certifi                      2020.6.20\n",
      "chardet                      4.0.0\n",
      "click                        8.0.3\n",
      "colorama                     0.4.4\n",
      "comm                         0.2.2\n",
      "contourpy                    1.3.1\n",
      "cryptography                 3.4.8\n",
      "cupshelpers                  1.0\n",
      "cycler                       0.12.1\n",
      "dbus-python                  1.2.18\n",
      "debugpy                      1.8.8\n",
      "decorator                    5.1.1\n",
      "defer                        1.0.6\n",
      "distlib                      0.3.9\n",
      "distro                       1.7.0\n",
      "distro-info                  1.1+ubuntu0.2\n",
      "dnspython                    2.1.0\n",
      "duplicity                    0.8.21\n",
      "exceptiongroup               1.2.2\n",
      "executing                    2.1.0\n",
      "fasteners                    0.14.1\n",
      "filelock                     3.16.1\n",
      "flatbuffers                  24.3.25\n",
      "fonttools                    4.55.0\n",
      "fsspec                       2024.10.0\n",
      "future                       0.18.2\n",
      "gast                         0.6.0\n",
      "google-pasta                 0.2.0\n",
      "grpcio                       1.68.0\n",
      "h5py                         3.12.1\n",
      "httplib2                     0.20.2\n",
      "idna                         3.3\n",
      "importlib-metadata           4.6.4\n",
      "ipykernel                    6.29.5\n",
      "ipython                      8.29.0\n",
      "jedi                         0.19.2\n",
      "jeepney                      0.7.1\n",
      "Jinja2                       3.1.4\n",
      "jupyter_client               8.6.3\n",
      "jupyter_core                 5.7.2\n",
      "keras                        3.7.0\n",
      "keyring                      23.5.0\n",
      "kiwisolver                   1.4.7\n",
      "language-selector            0.1\n",
      "launchpadlib                 1.10.16\n",
      "lazr.restfulclient           0.14.4\n",
      "lazr.uri                     1.0.6\n",
      "libclang                     18.1.1\n",
      "lockfile                     0.12.2\n",
      "louis                        3.20.0\n",
      "macaroonbakery               1.3.1\n",
      "Markdown                     3.7\n",
      "markdown-it-py               3.0.0\n",
      "MarkupSafe                   3.0.2\n",
      "matplotlib                   3.9.2\n",
      "matplotlib-inline            0.1.7\n",
      "mdurl                        0.1.2\n",
      "ml-dtypes                    0.4.1\n",
      "monotonic                    1.6\n",
      "more-itertools               8.10.0\n",
      "mpmath                       1.3.0\n",
      "namex                        0.0.8\n",
      "nest-asyncio                 1.6.0\n",
      "networkx                     3.4.2\n",
      "numpy                        2.0.2\n",
      "nvidia-cublas-cu12           12.4.5.8\n",
      "nvidia-cuda-cupti-cu12       12.4.127\n",
      "nvidia-cuda-nvrtc-cu12       12.4.127\n",
      "nvidia-cuda-runtime-cu12     12.4.127\n",
      "nvidia-cudnn-cu12            9.1.0.70\n",
      "nvidia-cufft-cu12            11.2.1.3\n",
      "nvidia-curand-cu12           10.3.5.147\n",
      "nvidia-cusolver-cu12         11.6.1.9\n",
      "nvidia-cusparse-cu12         12.3.1.170\n",
      "nvidia-nccl-cu12             2.21.5\n",
      "nvidia-nvjitlink-cu12        12.4.127\n",
      "nvidia-nvtx-cu12             12.4.127\n",
      "oauthlib                     3.2.0\n",
      "olefile                      0.46\n",
      "opencv-python                4.10.0.84\n",
      "opt_einsum                   3.4.0\n",
      "optree                       0.13.1\n",
      "packaging                    24.2\n",
      "paramiko                     2.9.3\n",
      "parso                        0.8.4\n",
      "pexpect                      4.8.0\n",
      "Pillow                       9.0.1\n",
      "pip                          22.0.2\n",
      "platformdirs                 4.3.6\n",
      "prompt_toolkit               3.0.48\n",
      "protobuf                     5.29.0\n",
      "psutil                       6.1.0\n",
      "ptyprocess                   0.7.0\n",
      "pure_eval                    0.2.3\n",
      "pycairo                      1.20.1\n",
      "pycups                       2.0.1\n",
      "Pygments                     2.18.0\n",
      "PyGObject                    3.42.1\n",
      "PyJWT                        2.3.0\n",
      "pymacaroons                  0.13.0\n",
      "PyNaCl                       1.5.0\n",
      "pyparsing                    2.4.7\n",
      "pyRFC3339                    1.1\n",
      "python-apt                   2.4.0+ubuntu4\n",
      "python-dateutil              2.9.0.post0\n",
      "python-debian                0.1.43+ubuntu1.1\n",
      "pytz                         2022.1\n",
      "pyxdg                        0.27\n",
      "PyYAML                       5.4.1\n",
      "pyzmq                        26.2.0\n",
      "reportlab                    3.6.8\n",
      "requests                     2.25.1\n",
      "rich                         13.9.4\n",
      "SecretStorage                3.3.1\n",
      "setuptools                   59.6.0\n",
      "six                          1.16.0\n",
      "stack-data                   0.6.3\n",
      "sympy                        1.13.1\n",
      "systemd-python               234\n",
      "tensorboard                  2.18.0\n",
      "tensorboard-data-server      0.7.2\n",
      "tensorflow                   2.18.0\n",
      "tensorflow-io-gcs-filesystem 0.37.1\n",
      "termcolor                    2.5.0\n",
      "torch                        2.5.1\n",
      "tornado                      6.4.1\n",
      "traitlets                    5.14.3\n",
      "triton                       3.1.0\n",
      "typing_extensions            4.12.2\n",
      "ubuntu-drivers-common        0.0.0\n",
      "ubuntu-pro-client            8001\n",
      "unattended-upgrades          0.1\n",
      "urllib3                      1.26.5\n",
      "usb-creator                  0.3.7\n",
      "virtualenv                   20.27.1\n",
      "wadllib                      1.3.6\n",
      "wcwidth                      0.2.13\n",
      "Werkzeug                     3.1.3\n",
      "wheel                        0.37.1\n",
      "wrapt                        1.17.0\n",
      "xdg                          5\n",
      "xkit                         0.0.0\n",
      "zipp                         1.0.0\n"
     ]
    }
   ],
   "source": [
    "!pip list"
   ]
  },
  {
   "cell_type": "code",
   "execution_count": 6,
   "metadata": {},
   "outputs": [
    {
     "name": "stdout",
     "output_type": "stream",
     "text": [
      "TensorFlow version: 2.18.0\n"
     ]
    }
   ],
   "source": [
    "import tensorflow as tf\n",
    "print(\"TensorFlow version:\", tf.__version__)"
   ]
  },
  {
   "cell_type": "code",
   "execution_count": null,
   "metadata": {},
   "outputs": [
    {
     "name": "stderr",
     "output_type": "stream",
     "text": [
      "2024-11-28 12:16:52.319246: E external/local_xla/xla/stream_executor/cuda/cuda_fft.cc:477] Unable to register cuFFT factory: Attempting to register factory for plugin cuFFT when one has already been registered\n",
      "WARNING: All log messages before absl::InitializeLog() is called are written to STDERR\n",
      "E0000 00:00:1732776412.341359   11375 cuda_dnn.cc:8310] Unable to register cuDNN factory: Attempting to register factory for plugin cuDNN when one has already been registered\n",
      "E0000 00:00:1732776412.348042   11375 cuda_blas.cc:1418] Unable to register cuBLAS factory: Attempting to register factory for plugin cuBLAS when one has already been registered\n",
      "2024-11-28 12:16:52.368847: I tensorflow/core/platform/cpu_feature_guard.cc:210] This TensorFlow binary is optimized to use available CPU instructions in performance-critical operations.\n",
      "To enable the following instructions: AVX2 FMA, in other operations, rebuild TensorFlow with the appropriate compiler flags.\n",
      "2024-11-28 12:16:55.436519: E external/local_xla/xla/stream_executor/cuda/cuda_driver.cc:152] failed call to cuInit: INTERNAL: CUDA error: Failed call to cuInit: UNKNOWN ERROR (303)\n"
     ]
    },
    {
     "ename": "RuntimeError",
     "evalue": "The Session graph is empty. Add operations to the graph before calling run().",
     "output_type": "error",
     "traceback": [
      "\u001b[0;31m---------------------------------------------------------------------------\u001b[0m",
      "\u001b[0;31mRuntimeError\u001b[0m                              Traceback (most recent call last)",
      "Cell \u001b[0;32mIn[2], line 11\u001b[0m\n\u001b[1;32m      8\u001b[0m sess \u001b[38;5;241m=\u001b[39m tf\u001b[38;5;241m.\u001b[39mcompat\u001b[38;5;241m.\u001b[39mv1\u001b[38;5;241m.\u001b[39mSession()\n\u001b[1;32m     10\u001b[0m \u001b[38;5;66;03m# evaluating node3 and printing the result\u001b[39;00m\n\u001b[0;32m---> 11\u001b[0m \u001b[38;5;28mprint\u001b[39m(\u001b[38;5;124m\"\u001b[39m\u001b[38;5;124msum of node1 and node2 is :\u001b[39m\u001b[38;5;124m\"\u001b[39m,\u001b[43msess\u001b[49m\u001b[38;5;241;43m.\u001b[39;49m\u001b[43mrun\u001b[49m\u001b[43m(\u001b[49m\u001b[43mnode3\u001b[49m\u001b[43m)\u001b[49m)\n\u001b[1;32m     12\u001b[0m \u001b[38;5;66;03m# closing the session\u001b[39;00m\n\u001b[1;32m     13\u001b[0m sess\u001b[38;5;241m.\u001b[39mclose()\n",
      "File \u001b[0;32m~/.local/lib/python3.10/site-packages/tensorflow/python/client/session.py:977\u001b[0m, in \u001b[0;36mBaseSession.run\u001b[0;34m(self, fetches, feed_dict, options, run_metadata)\u001b[0m\n\u001b[1;32m    974\u001b[0m run_metadata_ptr \u001b[38;5;241m=\u001b[39m tf_session\u001b[38;5;241m.\u001b[39mTF_NewBuffer() \u001b[38;5;28;01mif\u001b[39;00m run_metadata \u001b[38;5;28;01melse\u001b[39;00m \u001b[38;5;28;01mNone\u001b[39;00m\n\u001b[1;32m    976\u001b[0m \u001b[38;5;28;01mtry\u001b[39;00m:\n\u001b[0;32m--> 977\u001b[0m   result \u001b[38;5;241m=\u001b[39m \u001b[38;5;28;43mself\u001b[39;49m\u001b[38;5;241;43m.\u001b[39;49m\u001b[43m_run\u001b[49m\u001b[43m(\u001b[49m\u001b[38;5;28;43;01mNone\u001b[39;49;00m\u001b[43m,\u001b[49m\u001b[43m \u001b[49m\u001b[43mfetches\u001b[49m\u001b[43m,\u001b[49m\u001b[43m \u001b[49m\u001b[43mfeed_dict\u001b[49m\u001b[43m,\u001b[49m\u001b[43m \u001b[49m\u001b[43moptions_ptr\u001b[49m\u001b[43m,\u001b[49m\n\u001b[1;32m    978\u001b[0m \u001b[43m                     \u001b[49m\u001b[43mrun_metadata_ptr\u001b[49m\u001b[43m)\u001b[49m\n\u001b[1;32m    979\u001b[0m   \u001b[38;5;28;01mif\u001b[39;00m run_metadata:\n\u001b[1;32m    980\u001b[0m     proto_data \u001b[38;5;241m=\u001b[39m tf_session\u001b[38;5;241m.\u001b[39mTF_GetBuffer(run_metadata_ptr)\n",
      "File \u001b[0;32m~/.local/lib/python3.10/site-packages/tensorflow/python/client/session.py:1147\u001b[0m, in \u001b[0;36mBaseSession._run\u001b[0;34m(self, handle, fetches, feed_dict, options, run_metadata)\u001b[0m\n\u001b[1;32m   1145\u001b[0m   \u001b[38;5;28;01mraise\u001b[39;00m \u001b[38;5;167;01mRuntimeError\u001b[39;00m(\u001b[38;5;124m'\u001b[39m\u001b[38;5;124mAttempted to use a closed Session.\u001b[39m\u001b[38;5;124m'\u001b[39m)\n\u001b[1;32m   1146\u001b[0m \u001b[38;5;28;01mif\u001b[39;00m \u001b[38;5;28mself\u001b[39m\u001b[38;5;241m.\u001b[39mgraph\u001b[38;5;241m.\u001b[39mversion \u001b[38;5;241m==\u001b[39m \u001b[38;5;241m0\u001b[39m:\n\u001b[0;32m-> 1147\u001b[0m   \u001b[38;5;28;01mraise\u001b[39;00m \u001b[38;5;167;01mRuntimeError\u001b[39;00m(\u001b[38;5;124m'\u001b[39m\u001b[38;5;124mThe Session graph is empty. Add operations to the \u001b[39m\u001b[38;5;124m'\u001b[39m\n\u001b[1;32m   1148\u001b[0m                      \u001b[38;5;124m'\u001b[39m\u001b[38;5;124mgraph before calling run().\u001b[39m\u001b[38;5;124m'\u001b[39m)\n\u001b[1;32m   1150\u001b[0m \u001b[38;5;66;03m# Create request.\u001b[39;00m\n\u001b[1;32m   1151\u001b[0m feed_dict_tensor \u001b[38;5;241m=\u001b[39m {}\n",
      "\u001b[0;31mRuntimeError\u001b[0m: The Session graph is empty. Add operations to the graph before calling run()."
     ]
    }
   ],
   "source": [
    "import tensorflow as tf\n",
    "\n",
    "node1= tf.constant(3, dtype=tf.int32)\n",
    "node2= tf.constant(5, dtype=tf.int32)\n",
    "node3= tf.add(node1, node2)\n",
    "\n",
    "# create tensorflow session object\n",
    "sess = tf.compat.v1.Session()\n",
    " \n",
    "# evaluating node3 and printing the result\n",
    "print(\"sum of node1 and node2 is :\",sess.run(node3))\n",
    "# closing the session\n",
    "sess.close()"
   ]
  },
  {
   "cell_type": "markdown",
   "metadata": {},
   "source": [
    "**<span style=\"color:red\"> Tensorflow as removed session from version 2, We can directly call node3.numpy() to get the result as a NumPy array and print it.</span>**"
   ]
  },
  {
   "cell_type": "code",
   "execution_count": null,
   "metadata": {},
   "outputs": [
    {
     "name": "stdout",
     "output_type": "stream",
     "text": [
      "sum of node1 and node2 is: 8\n",
      "tf.Tensor(8, shape=(), dtype=int32)\n"
     ]
    }
   ],
   "source": [
    "import tensorflow as tf\n",
    "\n",
    "#! Define the constants\n",
    "node1 = tf.constant(3, dtype=tf.int32)\n",
    "node2 = tf.constant(5, dtype=tf.int32)\n",
    "\n",
    "#! Perform element-wise addition\n",
    "node3 = tf.add(node1, node2)\n",
    "\n",
    "#! Print the result without needing a session\n",
    "print(\"sum of node1 and node2 is:\", node3.numpy())\n",
    "print(node3)"
   ]
  },
  {
   "cell_type": "markdown",
   "metadata": {},
   "source": [
    "**<span style=\"color:red\">In TensorFlow 2.x, the concept of placeholders has been simplified. You no longer need to explicitly define placeholders to feed data into your model.\n",
    "Instead, you can directly pass data to your model during training or inference.\n",
    "</span>**"
   ]
  },
  {
   "cell_type": "code",
   "execution_count": 5,
   "metadata": {},
   "outputs": [
    {
     "ename": "AttributeError",
     "evalue": "module 'tensorflow' has no attribute 'placeholder'",
     "output_type": "error",
     "traceback": [
      "\u001b[0;31m---------------------------------------------------------------------------\u001b[0m",
      "\u001b[0;31mAttributeError\u001b[0m                            Traceback (most recent call last)",
      "Cell \u001b[0;32mIn[5], line 4\u001b[0m\n\u001b[1;32m      1\u001b[0m \u001b[38;5;28;01mimport\u001b[39;00m \u001b[38;5;21;01mtensorflow\u001b[39;00m \u001b[38;5;28;01mas\u001b[39;00m \u001b[38;5;21;01mtf\u001b[39;00m\n\u001b[1;32m      3\u001b[0m \u001b[38;5;66;03m# Define placeholders for input data\u001b[39;00m\n\u001b[0;32m----> 4\u001b[0m a \u001b[38;5;241m=\u001b[39m \u001b[43mtf\u001b[49m\u001b[38;5;241;43m.\u001b[39;49m\u001b[43mplaceholder\u001b[49m(tf\u001b[38;5;241m.\u001b[39mfloat32)\n\u001b[1;32m      5\u001b[0m b \u001b[38;5;241m=\u001b[39m tf\u001b[38;5;241m.\u001b[39mplaceholder(tf\u001b[38;5;241m.\u001b[39mfloat32)\n\u001b[1;32m      7\u001b[0m \u001b[38;5;66;03m# Define an operation (addition)\u001b[39;00m\n",
      "\u001b[0;31mAttributeError\u001b[0m: module 'tensorflow' has no attribute 'placeholder'"
     ]
    }
   ],
   "source": [
    "import tensorflow as tf\n",
    "\n",
    "# Define placeholders for input data\n",
    "a = tf.placeholder(tf.float32)\n",
    "b = tf.placeholder(tf.float32)\n",
    "\n",
    "# Define an operation (addition)\n",
    "c = a + b\n",
    "\n",
    "# Create a session\n",
    "sess = tf.Session()\n",
    "\n",
    "# Feed values to the placeholders and run the session\n",
    "result = sess.run(c, feed_dict={a: 3, b: 4})\n",
    "\n",
    "print(result)  # Output: 7"
   ]
  },
  {
   "cell_type": "markdown",
   "metadata": {},
   "source": [
    "#### <span style=\"color: rgb(45, 255, 3)\"> **Initialisation**</span>"
   ]
  },
  {
   "cell_type": "code",
   "execution_count": 29,
   "metadata": {},
   "outputs": [
    {
     "name": "stdout",
     "output_type": "stream",
     "text": [
      "tf.Tensor(10, shape=(), dtype=int32)\n",
      "----------------------------------------------------------------------------------------------------\n",
      "tf.Tensor(\n",
      "[[1 1 1]\n",
      " [1 1 1]], shape=(2, 3), dtype=int32)\n",
      "----------------------------------------------------------------------------------------------------\n",
      "tf.Tensor(\n",
      "[[0 0 0]\n",
      " [0 0 0]], shape=(2, 3), dtype=int32)\n",
      "----------------------------------------------------------------------------------------------------\n",
      "tf.Tensor(\n",
      "[[1 0 0]\n",
      " [0 1 0]\n",
      " [0 0 1]], shape=(3, 3), dtype=int32) Identity matrix\n",
      "----------------------------------------------------------------------------------------------------\n",
      "tf.Tensor(\n",
      "[[ 0.3545032   0.13433021  1.6527909 ]\n",
      " [-1.0687613  -0.8316954   1.2551463 ]\n",
      " [-0.61527175  0.14591677 -1.1046696 ]], shape=(3, 3), dtype=float32)\n",
      "----------------------------------------------------------------------------------------------------\n",
      "tf.Tensor(\n",
      "[[0.20214272 0.33666325 0.7415954 ]\n",
      " [0.38124526 0.37298858 0.26063752]\n",
      " [0.72620237 0.01593733 0.14125204]], shape=(3, 3), dtype=float32)\n",
      "----------------------------------------------------------------------------------------------------\n",
      "tf.Tensor([1.  2.5 4.  5.5 7.  8.5], shape=(6,), dtype=float32)\n",
      "----------------------------------------------------------------------------------------------------\n",
      "tf.Tensor(10.0, shape=(), dtype=float64)\n",
      "----------------------------------------------------------------------------------------------------\n",
      "tf.Tensor(5, shape=(), dtype=int32)\n"
     ]
    }
   ],
   "source": [
    "tensor= tf.constant(10)\n",
    "tensor1=tf.ones((2,3),dtype=tf.int32)\n",
    "tensor2=tf.zeros((2,3),dtype=tf.int32)\n",
    "tensor3=tf.eye(3,dtype=tf.int32)\n",
    "tensor4= tf.random.normal((3,3),mean=0,stddev=1)\n",
    "tensor5=tf.random.uniform((3,3),minval=0,maxval=1)\n",
    "tensor6=tf.range(1,10,1.5)\n",
    "tensor7=tf.cast(tensor,tf.float64,)\n",
    "print(tensor)\n",
    "print(\"-\"*100)\n",
    "print(tensor1)\n",
    "print(\"-\"*100)\n",
    "print(tensor2)\n",
    "print(\"-\"*100)\n",
    "print(tensor3, \"Identity matrix\")\n",
    "print(\"-\"*100)\n",
    "print(tensor4)\n",
    "print(\"-\"*100)\n",
    "print(tensor5)\n",
    "print(\"-\"*100)\n",
    "print(tensor6)\n",
    "print(\"-\"*100)\n",
    "print(tensor7)\n",
    "print(\"-\"*100)\n",
    "print(node2)"
   ]
  },
  {
   "cell_type": "markdown",
   "metadata": {},
   "source": [
    "<span style=\"color: rgb(45, 255, 3)\"><big>**Mathematical operations**</big></span>"
   ]
  },
  {
   "cell_type": "code",
   "execution_count": 42,
   "metadata": {},
   "outputs": [
    {
     "name": "stdout",
     "output_type": "stream",
     "text": [
      "tf.Tensor([10 10 10], shape=(3,), dtype=int32)\n",
      "----------------------------------------------------------------------------------------------------\n",
      "[10 10 10]\n",
      "----------------------------------------------------------------------------------------------------\n",
      "[8 6 4]\n",
      "----------------------------------------------------------------------------------------------------\n",
      "tf.Tensor([0.11111111 0.25       0.42857143], shape=(3,), dtype=float64)\n",
      "----------------------------------------------------------------------------------------------------\n",
      "tf.Tensor([ 9 16 21], shape=(3,), dtype=int32)\n",
      "----------------------------------------------------------------------------------------------------\n",
      "tf.Tensor(46, shape=(), dtype=int32)\n",
      "----------------------------------------------------------------------------------------------------\n",
      "tf.Tensor(46, shape=(), dtype=int32)\n",
      "----------------------------------------------------------------------------------------------------\n",
      "tf.Tensor([ 1  8 27], shape=(3,), dtype=int32)\n",
      "----------------------------------------------------------------------------------------------------\n"
     ]
    }
   ],
   "source": [
    "import tensorflow as tf\n",
    "\n",
    "x=tf.constant([1,2,3])\n",
    "y=tf.constant([9,8,7])\n",
    "\n",
    "# z= tf.add(x,y)\n",
    "z= x+y\n",
    "a=y-x #! or tf.subtract(x-y)\n",
    "b=x/y #! or tf.divide(x,y)\n",
    "c=x*y#! or tf.multiply(x,y)\n",
    "d=tf.tensordot(x,y,axes=1) #! Muktipying element and adding all\n",
    "e=tf.reduce_sum(x*y,axis=0)\n",
    "x=x**3\n",
    "\n",
    "print(z)\n",
    "print(\"-\"*100)\n",
    "print(z.numpy())\n",
    "print(\"-\"*100)\n",
    "print(a.numpy())\n",
    "print(\"-\"*100)\n",
    "print(b)\n",
    "print(\"-\"*100)\n",
    "print(c)\n",
    "print(\"-\"*100)\n",
    "print(d)\n",
    "print(\"-\"*100)\n",
    "print(e)\n",
    "print(\"-\"*100)\n",
    "print(x)\n",
    "print(\"-\"*100)"
   ]
  },
  {
   "cell_type": "markdown",
   "metadata": {},
   "source": [
    "<span style=\"color: rgb(45, 255, 3)\"><big>Matrix Multiplication</big></span>"
   ]
  },
  {
   "cell_type": "code",
   "execution_count": 43,
   "metadata": {},
   "outputs": [
    {
     "name": "stdout",
     "output_type": "stream",
     "text": [
      "tf.Tensor(\n",
      "[[ 0.40527025 -0.07388318 -1.1959332  -0.16655868]\n",
      " [-0.28554678  0.5931215   0.16788556  1.2962734 ]], shape=(2, 4), dtype=float32)\n",
      "tf.Tensor(\n",
      "[[ 0.40527025 -0.07388318 -1.1959332  -0.16655868]\n",
      " [-0.28554678  0.5931215   0.16788556  1.2962734 ]], shape=(2, 4), dtype=float32)\n"
     ]
    }
   ],
   "source": [
    "x= tf.random.normal((2,3))\n",
    "y= tf.random.normal((3,4))\n",
    "z=tf.matmul(x,y)\n",
    "print(z)\n",
    "z=x@y\n",
    "print(z)"
   ]
  },
  {
   "cell_type": "markdown",
   "metadata": {},
   "source": [
    "<span><big> **Indexing**</big></span>"
   ]
  },
  {
   "cell_type": "code",
   "execution_count": 51,
   "metadata": {},
   "outputs": [
    {
     "name": "stdout",
     "output_type": "stream",
     "text": [
      "tf.Tensor(\n",
      "[ 0.50331616  0.33214182  0.36347142 -0.44455165 -0.5522923  -1.0944899\n",
      "  0.2486316   0.27290583 -0.5109242  -1.5624675 ], shape=(10,), dtype=float32)\n",
      "----------------------------------------------------------------------------------------------------\n",
      "tf.Tensor(\n",
      "[ 0.50331616  0.33214182  0.36347142 -0.44455165 -0.5522923  -1.0944899\n",
      "  0.2486316   0.27290583 -0.5109242  -1.5624675 ], shape=(10,), dtype=float32)\n",
      "----------------------------------------------------------------------------------------------------\n",
      "tf.Tensor([0.33214182 0.36347142], shape=(2,), dtype=float32)\n",
      "----------------------------------------------------------------------------------------------------\n",
      "tf.Tensor([ 0.50331616  0.36347142 -0.5522923   0.2486316  -0.5109242 ], shape=(5,), dtype=float32)\n",
      "----------------------------------------------------------------------------------------------------\n",
      "tf.Tensor([ 0.50331616 -0.44455165], shape=(2,), dtype=float32)\n"
     ]
    }
   ],
   "source": [
    "x=tf.random.normal((10,))\n",
    "print(x)\n",
    "print(\"-\"*100)\n",
    "print(x[:])\n",
    "print(\"-\"*100)\n",
    "print(x[1:3])\n",
    "print(\"-\"*100)\n",
    "print(x[::2])\n",
    "print(\"-\"*100)\n",
    "indices=tf.constant([0,3])\n",
    "x_ind=tf.gather(x,indices)\n",
    "print(x_ind)\n"
   ]
  },
  {
   "cell_type": "markdown",
   "metadata": {},
   "source": [
    "<span><big>**Reshaping**</big></span>"
   ]
  },
  {
   "cell_type": "code",
   "execution_count": 65,
   "metadata": {},
   "outputs": [
    {
     "name": "stdout",
     "output_type": "stream",
     "text": [
      "tf.Tensor([0 1 2 3 4 5 6 7 8], shape=(9,), dtype=int32)\n",
      "----------------------------------------------------------------------------------------------------\n",
      "tf.Tensor(\n",
      "[[0 1 2]\n",
      " [3 4 5]\n",
      " [6 7 8]], shape=(3, 3), dtype=int32)\n",
      "----------------------------------------------------------------------------------------------------\n",
      "tf.Tensor(\n",
      "[[0 3 6]\n",
      " [1 4 7]\n",
      " [2 5 8]], shape=(3, 3), dtype=int32)\n",
      "----------------------------------------------------------------------------------------------------\n"
     ]
    }
   ],
   "source": [
    "x=tf.range(9)\n",
    "print(x)\n",
    "print(\"-\"*100)\n",
    "x=tf.reshape(x,(3,3))\n",
    "print(x)\n",
    "print(\"-\"*100)\n",
    "x=tf.transpose(x,[1,0])\n",
    "print(x)\n",
    "print(\"-\"*100)"
   ]
  }
 ],
 "metadata": {
  "kernelspec": {
   "display_name": "Python 3",
   "language": "python",
   "name": "python3"
  },
  "language_info": {
   "codemirror_mode": {
    "name": "ipython",
    "version": 3
   },
   "file_extension": ".py",
   "mimetype": "text/x-python",
   "name": "python",
   "nbconvert_exporter": "python",
   "pygments_lexer": "ipython3",
   "version": "3.10.12"
  }
 },
 "nbformat": 4,
 "nbformat_minor": 2
}
